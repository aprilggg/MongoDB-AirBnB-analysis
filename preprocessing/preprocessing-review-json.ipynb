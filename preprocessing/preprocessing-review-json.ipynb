{
 "cells": [
  {
   "cell_type": "code",
   "execution_count": 1,
   "metadata": {},
   "outputs": [
    {
     "name": "stderr",
     "output_type": "stream",
     "text": [
      "C:\\Users\\wuron\\anaconda3\\lib\\site-packages\\pandas\\core\\computation\\expressions.py:20: UserWarning: Pandas requires version '2.7.3' or newer of 'numexpr' (version '2.7.1' currently installed).\n",
      "  from pandas.core.computation.check import NUMEXPR_INSTALLED\n"
     ]
    }
   ],
   "source": [
    "import pandas as pd\n",
    "import json\n",
    "import numpy as np\n",
    "import re\n",
    "p = re.compile('(?<!\\\\\\\\)\\'')\n",
    "\n",
    "class NpEncoder(json.JSONEncoder):\n",
    "    def default(self, obj):\n",
    "        if isinstance(obj, np.integer):\n",
    "            return int(obj)\n",
    "        if isinstance(obj, np.floating):\n",
    "            return float(obj)\n",
    "        if isinstance(obj, np.ndarray):\n",
    "            return obj.tolist()\n",
    "        return super(NpEncoder, self).default(obj)"
   ]
  },
  {
   "cell_type": "code",
   "execution_count": 3,
   "metadata": {},
   "outputs": [
    {
     "data": {
      "text/plain": [
       "listing_id        int64\n",
       "id                int64\n",
       "date             object\n",
       "reviewer_id       int64\n",
       "reviewer_name    object\n",
       "comments         object\n",
       "dtype: object"
      ]
     },
     "execution_count": 3,
     "metadata": {},
     "output_type": "execute_result"
    }
   ],
   "source": [
    "rv_sl = pd.read_csv('reviews_salem.csv')\n",
    "rv_sl.dtypes"
   ]
  },
  {
   "cell_type": "code",
   "execution_count": 7,
   "metadata": {},
   "outputs": [],
   "source": [
    "dic_rv_sl = {}\n",
    "types = {}\n",
    "for i in range(len(rv_sl.columns)):\n",
    "#     print(lst_sl.columns[i], lst_sl.dtypes[i]=='float64')\n",
    "    currcol = rv_sl.columns[i]\n",
    "    currtype = rv_sl.dtypes[i]\n",
    "    newtype = ''\n",
    "    if currtype=='int64':\n",
    "        newtype = int\n",
    "    elif currtype==object:\n",
    "        newtype = str\n",
    "    elif currtype=='float64':\n",
    "        newtype = float\n",
    "    types[currcol] = newtype\n",
    "    \n",
    "final = {}\n",
    "final_arr = []\n",
    "for j in range(rv_sl.shape[0]):\n",
    "    temp = {}\n",
    "    for col in rv_sl.columns:\n",
    "        currcontent = rv_sl.iloc[j][col]\n",
    "        temp[col] = types[col](currcontent)\n",
    "    final_arr.append(temp)\n",
    "final[\"all_reviews\"] = final_arr\n",
    "    \n",
    "with open(\"reviews_sl.json\", \"w\") as file:\n",
    "    json.dump(final, file, indent=4, sort_keys=True,\n",
    "              separators=(', ', ': '),\n",
    "              cls=NpEncoder)"
   ]
  },
  {
   "cell_type": "code",
   "execution_count": 8,
   "metadata": {},
   "outputs": [],
   "source": [
    "rv_pl = pd.read_csv('reviews_portland.csv')\n",
    "dic_rv_pl = {}\n",
    "types = {}\n",
    "for i in range(len(rv_pl.columns)):\n",
    "#     print(lst_sl.columns[i], lst_sl.dtypes[i]=='float64')\n",
    "    currcol = rv_pl.columns[i]\n",
    "    currtype = rv_pl.dtypes[i]\n",
    "    newtype = ''\n",
    "    if currtype=='int64':\n",
    "        newtype = int\n",
    "    elif currtype==object:\n",
    "        newtype = str\n",
    "    elif currtype=='float64':\n",
    "        newtype = float\n",
    "    types[currcol] = newtype\n",
    "    \n",
    "final = {}\n",
    "final_arr = []\n",
    "for j in range(rv_pl.shape[0]):\n",
    "    temp = {}\n",
    "    for col in rv_pl.columns:\n",
    "        currcontent = rv_pl.iloc[j][col]\n",
    "        temp[col] = types[col](currcontent)\n",
    "    final_arr.append(temp)\n",
    "final[\"all_reviews\"] = final_arr\n",
    "    \n",
    "with open(\"reviews_pl.json\", \"w\") as file:\n",
    "    json.dump(final, file, indent=4, sort_keys=True,\n",
    "              separators=(', ', ': '),\n",
    "              cls=NpEncoder)"
   ]
  },
  {
   "cell_type": "code",
   "execution_count": 10,
   "metadata": {},
   "outputs": [],
   "source": [
    "rv_sl = pd.read_csv('reviews_salem.csv')\n",
    "dic_rv_sl = {}\n",
    "\n",
    "for i in range(rv_sl.shape[0]):\n",
    "    row = rv_sl.iloc[i]\n",
    "    lid = str(row['listing_id'])\n",
    "    if lid not in dic_rv_sl.keys():\n",
    "        dic_rv_sl[lid] = []\n",
    "    \n",
    "    temp = {'id': row['id'], 'date': row['date'], 'reviewer_id': row['reviewer_id'], \n",
    "            'reviewer_name': row['reviewer_name'], 'comments': p.sub('\\\"', str(row['comments']))}\n",
    "    dic_rv_sl[lid].append(temp)\n",
    "    \n",
    "with open(\"rv_sl.json\", \"w\") as file:\n",
    "    json.dump(dic_rv_sl, file, indent=4, sort_keys=True,\n",
    "              separators=(', ', ': '),\n",
    "              cls=NpEncoder)\n",
    "    \n",
    "final = {}\n",
    "final_arr = []\n",
    "f = open('rv_sl.json',)\n",
    "data = json.load(f)\n",
    "c=0\n",
    "for i in data:\n",
    "    temp = {}\n",
    "    temp[\"listing_id\"] = i\n",
    "    temp[\"reviews\"] = data[i]\n",
    "    final_arr.append(temp)\n",
    "final[\"all_reviews\"] = final_arr\n",
    "with open(\"rv_sl_new.json\", \"w\") as file:\n",
    "    json.dump(final, file, indent=4, sort_keys=True,\n",
    "              separators=(', ', ': '),\n",
    "              cls=NpEncoder)"
   ]
  },
  {
   "cell_type": "code",
   "execution_count": 6,
   "metadata": {},
   "outputs": [],
   "source": [
    "rv_sd = pd.read_csv('reviews_sd.csv')\n",
    "dic_rv_sd = {}\n",
    "\n",
    "for i in range(rv_sd.shape[0]):\n",
    "    row = rv_sd.iloc[i]\n",
    "    lid = str(row['listing_id'])\n",
    "    if lid not in dic_rv_sd.keys():\n",
    "        dic_rv_sd[lid] = []\n",
    "    temp = {'id': row['id'], 'date': row['date'], 'reviewer_id': row['reviewer_id'], \n",
    "            'reviewer_name': row['reviewer_name'], 'comments': row['comments']}\n",
    "    temp = {}\n",
    "    dic_rv_sd[lid].append(temp)\n",
    "\n",
    "with open(\"rv_sd.json\", \"w\") as file:\n",
    "    json.dump(dic_rv_sd, file, indent=4, sort_keys=True,\n",
    "              separators=(', ', ': '),\n",
    "              cls=NpEncoder)\n",
    "    \n",
    "final = {}\n",
    "final_arr = []\n",
    "f = open('rv_sd.json',)\n",
    "data = json.load(f)\n",
    "c=0\n",
    "for i in data:\n",
    "    temp = {}\n",
    "    temp[\"listing_id\"] = i\n",
    "    temp[\"reviews\"] = data[i]\n",
    "    final_arr.append(temp)\n",
    "final[\"all_reviews\"] = final_arr\n",
    "with open(\"rv_sd_new.json\", \"w\") as file:\n",
    "    json.dump(final, file, indent=4, sort_keys=True,\n",
    "              separators=(', ', ': '),\n",
    "              cls=NpEncoder)"
   ]
  }
 ],
 "metadata": {
  "kernelspec": {
   "display_name": "Python 3",
   "language": "python",
   "name": "python3"
  },
  "language_info": {
   "codemirror_mode": {
    "name": "ipython",
    "version": 3
   },
   "file_extension": ".py",
   "mimetype": "text/x-python",
   "name": "python",
   "nbconvert_exporter": "python",
   "pygments_lexer": "ipython3",
   "version": "3.8.5"
  }
 },
 "nbformat": 4,
 "nbformat_minor": 4
}
