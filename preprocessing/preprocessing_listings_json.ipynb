{
 "cells": [
  {
   "cell_type": "code",
   "execution_count": 2,
   "metadata": {},
   "outputs": [
    {
     "name": "stderr",
     "output_type": "stream",
     "text": [
      "C:\\Users\\wuron\\anaconda3\\lib\\site-packages\\pandas\\core\\computation\\expressions.py:20: UserWarning: Pandas requires version '2.7.3' or newer of 'numexpr' (version '2.7.1' currently installed).\n",
      "  from pandas.core.computation.check import NUMEXPR_INSTALLED\n"
     ]
    }
   ],
   "source": [
    "import pandas as pd\n",
    "import numpy as np"
   ]
  },
  {
   "cell_type": "code",
   "execution_count": 27,
   "metadata": {},
   "outputs": [],
   "source": [
    "import json\n",
    "\n",
    "class NpEncoder(json.JSONEncoder):\n",
    "    def default(self, obj):\n",
    "        if isinstance(obj, np.integer):\n",
    "            return int(obj)\n",
    "        if isinstance(obj, np.floating):\n",
    "            return float(obj)\n",
    "        if isinstance(obj, np.ndarray):\n",
    "            return obj.tolist()\n",
    "        return super(NpEncoder, self).default(obj)"
   ]
  },
  {
   "cell_type": "code",
   "execution_count": null,
   "metadata": {},
   "outputs": [],
   "source": [
    "lst_sl = pd.read_csv('listings_salem.csv')\n",
    "nbh_sl = pd.read_csv('neighbourhoods_salem.csv')\n",
    "rv_sl = pd.read_csv('reviews_salem.csv')\n",
    "cld_sl = pd.read_csv('calendar_salem.csv')"
   ]
  },
  {
   "cell_type": "code",
   "execution_count": null,
   "metadata": {},
   "outputs": [],
   "source": [
    "nrows_listing_la = lst_la.shape[0]\n",
    "nrows_listing_pl = lst_pl.shape[0]\n",
    "nrows_listing_sl = lst_sl.shape[0]\n",
    "nrows_listing_sd = lst_sd.shape[0]\n",
    "dropColListing = []\n",
    "for col in(lst_la.columns):\n",
    "    temp = [100 * lst_la[col].isna().sum() / nrows_listing_la > 40, \n",
    "            100 * lst_pl[col].isna().sum() / nrows_listing_pl > 40, \n",
    "            100 * lst_sl[col].isna().sum() / nrows_listing_sl > 40, \n",
    "            100 * lst_sd[col].isna().sum() / nrows_listing_sd > 40]\n",
    "    if (any(temp)):\n",
    "        dropColListing.append(col)\n",
    "        \n",
    "# print(dropColListing)\n",
    "lst_la = lst_la.drop(columns=dropColListing)\n",
    "\n",
    "lst_pl = lst_pl.drop(columns=dropColListing)\n",
    "\n",
    "lst_sl = lst_sl.drop(columns=dropColListing)\n",
    "\n",
    "lst_sd = lst_sd.drop(columns=dropColListing)\n",
    "# ['neighborhood_overview', 'host_about', 'neighbourhood', 'neighbourhood_group_cleansed', \n",
    "# 'bathrooms', 'calendar_updated', 'license']"
   ]
  },
  {
   "cell_type": "code",
   "execution_count": null,
   "metadata": {},
   "outputs": [],
   "source": [
    "lst_la.to_csv('listings_la_cleaned.csv', index=False)\n",
    "lst_pl.to_csv('listings_pl_cleaned.csv', index=False)\n",
    "lst_sl.to_csv('listings_sl_cleaned.csv', index=False)\n",
    "lst_sd.to_csv('listings_sd_cleaned.csv', index=False)"
   ]
  },
  {
   "cell_type": "code",
   "execution_count": 31,
   "metadata": {},
   "outputs": [],
   "source": [
    "# change the csv file and the output filename for different cities\n",
    "lst = pd.read_csv('listings_sd_cleaned.csv')\n",
    "# lst_sl = lst_sl.drop(columns=['Unnamed: 0'])\n",
    "dic_lst = {}\n",
    "types = {}\n",
    "for i in range(len(lst.columns)):\n",
    "#     print(lst.columns[i], lst.dtypes[i]=='float64')\n",
    "    currcol = lst.columns[i]\n",
    "    if currcol in ['price', 'host_response_rate', 'host_acceptance_rate']:\n",
    "        types[currcol] = float\n",
    "        continue\n",
    "    currtype = lst.dtypes[i]\n",
    "    newtype = ''\n",
    "    if currtype=='int64':\n",
    "        newtype = int\n",
    "    elif currtype==object:\n",
    "        newtype = str\n",
    "    elif currtype=='float64':\n",
    "        newtype = float\n",
    "    types[currcol] = newtype\n",
    "\n"
   ]
  },
  {
   "cell_type": "code",
   "execution_count": 32,
   "metadata": {},
   "outputs": [],
   "source": [
    "final = {}\n",
    "final_arr = []\n",
    "for j in range(lst.shape[0]):\n",
    "    temp = {}\n",
    "    for col in lst.columns:\n",
    "        currcontent = lst.iloc[j][col]\n",
    "        if col=='price':\n",
    "            temp[col] = float(currcontent.replace('$','').replace(',',''))\n",
    "        elif col=='host_response_rate':\n",
    "            if pd.isnull(currcontent):\n",
    "                temp[col] = -1\n",
    "            else:\n",
    "                t = str(currcontent).replace('%','')\n",
    "                temp[col] = float(t) / 100.0\n",
    "        elif col=='host_acceptance_rate':\n",
    "            if pd.isnull(currcontent):\n",
    "                temp[col] = -1\n",
    "            else:\n",
    "                t = str(currcontent).replace('%','')\n",
    "                temp[col] = float(t) / 100.0\n",
    "        else:\n",
    "            temp[col] = types[col](currcontent)\n",
    "    final_arr.append(temp)\n",
    "final[\"all_listings\"] = final_arr\n",
    "    \n",
    "with open(\"listing_<cityname>.json\", \"w\") as file:\n",
    "    json.dump(final, file, indent=4, sort_keys=True,\n",
    "              separators=(', ', ': '),\n",
    "              cls=NpEncoder)"
   ]
  }
 ],
 "metadata": {
  "kernelspec": {
   "display_name": "Python 3",
   "language": "python",
   "name": "python3"
  },
  "language_info": {
   "codemirror_mode": {
    "name": "ipython",
    "version": 3
   },
   "file_extension": ".py",
   "mimetype": "text/x-python",
   "name": "python",
   "nbconvert_exporter": "python",
   "pygments_lexer": "ipython3",
   "version": "3.8.5"
  }
 },
 "nbformat": 4,
 "nbformat_minor": 4
}
