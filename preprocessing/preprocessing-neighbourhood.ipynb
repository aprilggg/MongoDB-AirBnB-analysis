{
 "cells": [
  {
   "cell_type": "code",
   "execution_count": 4,
   "metadata": {},
   "outputs": [],
   "source": [
    "import pandas as pd"
   ]
  },
  {
   "cell_type": "code",
   "execution_count": 5,
   "metadata": {},
   "outputs": [],
   "source": [
    "nbh_la = pd.read_csv('neighbourhoods_la.csv')\n",
    "nbh_pl = pd.read_csv('neighbourhoods_portland.csv')\n",
    "nbh_sl = pd.read_csv('neighbourhoods_salem.csv')\n",
    "nbh_sd = pd.read_csv('neighbourhoods_sd.csv')"
   ]
  },
  {
   "cell_type": "code",
   "execution_count": 6,
   "metadata": {},
   "outputs": [
    {
     "name": "stdout",
     "output_type": "stream",
     "text": [
      "['neighbourhood_group']\n"
     ]
    }
   ],
   "source": [
    "nrows_neighbourhoods_la = nbh_la.shape[0]\n",
    "nrows_neighbourhoods_pl = nbh_pl.shape[0]\n",
    "nrows_neighbourhoods_sl = nbh_sl.shape[0]\n",
    "nrows_neighbourhoods_sd = nbh_sd.shape[0]\n",
    "dropColNeighbourhoods = []\n",
    "for col in(nbh_la.columns):\n",
    "    temp = [100 * nbh_la[col].isna().sum() / nrows_neighbourhoods_la > 40, \n",
    "            100 * nbh_pl[col].isna().sum() / nrows_neighbourhoods_pl > 40, \n",
    "            100 * nbh_sl[col].isna().sum() / nrows_neighbourhoods_sl > 40, \n",
    "            100 * nbh_sd[col].isna().sum() / nrows_neighbourhoods_sd > 40]\n",
    "    if (any(temp)):\n",
    "        dropColNeighbourhoods.append(col)\n",
    "        \n",
    "print(dropColNeighbourhoods)\n",
    "nbh_la = nbh_la.drop(columns=dropColNeighbourhoods)\n",
    "nbh_la.to_csv('neighbourhoods_la_cleaned.csv', index=False)\n",
    "\n",
    "nbh_pl = nbh_pl.drop(columns=dropColNeighbourhoods)\n",
    "nbh_pl.to_csv('neighbourhoods_portland_cleaned.csv', index=False)\n",
    "\n",
    "nbh_sl = nbh_sl.drop(columns=dropColNeighbourhoods)\n",
    "nbh_sl.to_csv('neighbourhoods_salem_cleaned.csv', index=False)\n",
    "\n",
    "nbh_sd = nbh_sd.drop(columns=dropColNeighbourhoods)\n",
    "nbh_sd.to_csv('neighbourhoods_sd_cleaned.csv', index=False)"
   ]
  },
  {
   "cell_type": "code",
   "execution_count": null,
   "metadata": {},
   "outputs": [],
   "source": []
  }
 ],
 "metadata": {
  "kernelspec": {
   "display_name": "Python 3",
   "language": "python",
   "name": "python3"
  },
  "language_info": {
   "codemirror_mode": {
    "name": "ipython",
    "version": 3
   },
   "file_extension": ".py",
   "mimetype": "text/x-python",
   "name": "python",
   "nbconvert_exporter": "python",
   "pygments_lexer": "ipython3",
   "version": "3.8.5"
  }
 },
 "nbformat": 4,
 "nbformat_minor": 4
}
