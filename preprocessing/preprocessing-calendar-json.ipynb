{
 "cells": [
  {
   "cell_type": "code",
   "execution_count": 6,
   "metadata": {},
   "outputs": [],
   "source": [
    "import pandas as pd\n",
    "import json\n",
    "import numpy as np\n",
    "import re\n",
    "p = re.compile('(?<!\\\\\\\\)\\'')\n",
    "# s = p.sub('\\\"', s)\n",
    "\n",
    "class NpEncoder(json.JSONEncoder):\n",
    "    def default(self, obj):\n",
    "        if isinstance(obj, np.integer):\n",
    "            return int(obj)\n",
    "        if isinstance(obj, np.floating):\n",
    "            return float(obj)\n",
    "        if isinstance(obj, np.ndarray):\n",
    "            return obj.tolist()\n",
    "        return super(NpEncoder, self).default(obj)"
   ]
  },
  {
   "cell_type": "code",
   "execution_count": 7,
   "metadata": {},
   "outputs": [
    {
     "data": {
      "text/plain": [
       "listing_id         int64\n",
       "date              object\n",
       "available         object\n",
       "price             object\n",
       "adjusted_price    object\n",
       "minimum_nights     int64\n",
       "maximum_nights     int64\n",
       "dtype: object"
      ]
     },
     "execution_count": 7,
     "metadata": {},
     "output_type": "execute_result"
    }
   ],
   "source": [
    "# change the input file and the output filename for different cities\n",
    "rv_sl = pd.read_csv('calendar_salem.csv')\n",
    "rv_sl.dtypes"
   ]
  },
  {
   "cell_type": "code",
   "execution_count": 8,
   "metadata": {},
   "outputs": [
    {
     "data": {
      "text/html": [
       "<div>\n",
       "<style scoped>\n",
       "    .dataframe tbody tr th:only-of-type {\n",
       "        vertical-align: middle;\n",
       "    }\n",
       "\n",
       "    .dataframe tbody tr th {\n",
       "        vertical-align: top;\n",
       "    }\n",
       "\n",
       "    .dataframe thead th {\n",
       "        text-align: right;\n",
       "    }\n",
       "</style>\n",
       "<table border=\"1\" class=\"dataframe\">\n",
       "  <thead>\n",
       "    <tr style=\"text-align: right;\">\n",
       "      <th></th>\n",
       "      <th>listing_id</th>\n",
       "      <th>date</th>\n",
       "      <th>available</th>\n",
       "      <th>price</th>\n",
       "      <th>adjusted_price</th>\n",
       "      <th>minimum_nights</th>\n",
       "      <th>maximum_nights</th>\n",
       "    </tr>\n",
       "  </thead>\n",
       "  <tbody>\n",
       "    <tr>\n",
       "      <th>0</th>\n",
       "      <td>12899</td>\n",
       "      <td>2022-12-23</td>\n",
       "      <td>f</td>\n",
       "      <td>$80.00</td>\n",
       "      <td>$80.00</td>\n",
       "      <td>3</td>\n",
       "      <td>1125</td>\n",
       "    </tr>\n",
       "    <tr>\n",
       "      <th>1</th>\n",
       "      <td>12899</td>\n",
       "      <td>2022-12-24</td>\n",
       "      <td>f</td>\n",
       "      <td>$80.00</td>\n",
       "      <td>$80.00</td>\n",
       "      <td>3</td>\n",
       "      <td>1125</td>\n",
       "    </tr>\n",
       "    <tr>\n",
       "      <th>2</th>\n",
       "      <td>12899</td>\n",
       "      <td>2022-12-25</td>\n",
       "      <td>f</td>\n",
       "      <td>$80.00</td>\n",
       "      <td>$80.00</td>\n",
       "      <td>3</td>\n",
       "      <td>1125</td>\n",
       "    </tr>\n",
       "    <tr>\n",
       "      <th>3</th>\n",
       "      <td>12899</td>\n",
       "      <td>2022-12-26</td>\n",
       "      <td>f</td>\n",
       "      <td>$80.00</td>\n",
       "      <td>$80.00</td>\n",
       "      <td>3</td>\n",
       "      <td>1125</td>\n",
       "    </tr>\n",
       "    <tr>\n",
       "      <th>4</th>\n",
       "      <td>12899</td>\n",
       "      <td>2022-12-27</td>\n",
       "      <td>f</td>\n",
       "      <td>$80.00</td>\n",
       "      <td>$80.00</td>\n",
       "      <td>3</td>\n",
       "      <td>1125</td>\n",
       "    </tr>\n",
       "  </tbody>\n",
       "</table>\n",
       "</div>"
      ],
      "text/plain": [
       "   listing_id        date available   price adjusted_price  minimum_nights  \\\n",
       "0       12899  2022-12-23         f  $80.00         $80.00               3   \n",
       "1       12899  2022-12-24         f  $80.00         $80.00               3   \n",
       "2       12899  2022-12-25         f  $80.00         $80.00               3   \n",
       "3       12899  2022-12-26         f  $80.00         $80.00               3   \n",
       "4       12899  2022-12-27         f  $80.00         $80.00               3   \n",
       "\n",
       "   maximum_nights  \n",
       "0            1125  \n",
       "1            1125  \n",
       "2            1125  \n",
       "3            1125  \n",
       "4            1125  "
      ]
     },
     "execution_count": 8,
     "metadata": {},
     "output_type": "execute_result"
    }
   ],
   "source": [
    "rv_sl.head()"
   ]
  },
  {
   "cell_type": "code",
   "execution_count": 9,
   "metadata": {},
   "outputs": [],
   "source": [
    "dic_rv_sl = {}\n",
    "types = {}\n",
    "for i in range(len(rv_sl.columns)):\n",
    "#     print(lst_sl.columns[i], lst_sl.dtypes[i]=='float64')\n",
    "    currcol = rv_sl.columns[i]\n",
    "    if currcol in ['price', 'adjusted_price']:\n",
    "        types[currcol] = float\n",
    "        continue\n",
    "    currtype = rv_sl.dtypes[i]\n",
    "    newtype = ''\n",
    "    if currtype=='int64':\n",
    "        newtype = int\n",
    "    elif currtype==object:\n",
    "        newtype = str\n",
    "    elif currtype=='float64':\n",
    "        newtype = float\n",
    "    types[currcol] = newtype\n",
    "    \n",
    "final = {}\n",
    "final_arr = []\n",
    "for j in range(rv_sl.shape[0]):\n",
    "    temp = {}\n",
    "    for col in rv_sl.columns:\n",
    "        currcontent = rv_sl.iloc[j][col]\n",
    "        if (col=='price' or col=='adjusted_price'):\n",
    "            temp[col] = float(currcontent.replace('$','').replace(',',''))\n",
    "        else:\n",
    "            temp[col] = types[col](currcontent)\n",
    "    final_arr.append(temp)\n",
    "final[\"calendar_info\"] = final_arr\n",
    "    \n",
    "with open(\"calendar_sl.json\", \"w\") as file:\n",
    "    json.dump(final, file, indent=4, sort_keys=True,\n",
    "              separators=(', ', ': '),\n",
    "              cls=NpEncoder)"
   ]
  }
 ],
 "metadata": {
  "kernelspec": {
   "display_name": "Python 3",
   "language": "python",
   "name": "python3"
  },
  "language_info": {
   "codemirror_mode": {
    "name": "ipython",
    "version": 3
   },
   "file_extension": ".py",
   "mimetype": "text/x-python",
   "name": "python",
   "nbconvert_exporter": "python",
   "pygments_lexer": "ipython3",
   "version": "3.8.5"
  }
 },
 "nbformat": 4,
 "nbformat_minor": 4
}
